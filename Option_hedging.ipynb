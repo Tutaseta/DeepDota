{
  "nbformat": 4,
  "nbformat_minor": 0,
  "metadata": {
    "colab": {
      "name": "Option_hedging.ipynb",
      "version": "0.3.2",
      "provenance": [],
      "collapsed_sections": [],
      "include_colab_link": true
    },
    "kernelspec": {
      "name": "python3",
      "display_name": "Python 3"
    }
  },
  "cells": [
    {
      "cell_type": "markdown",
      "metadata": {
        "id": "view-in-github",
        "colab_type": "text"
      },
      "source": [
        "<a href=\"https://colab.research.google.com/github/Tutaseta/DeepDota/blob/master/Option_hedging.ipynb\" target=\"_parent\"><img src=\"https://colab.research.google.com/assets/colab-badge.svg\" alt=\"Open In Colab\"/></a>"
      ]
    },
    {
      "cell_type": "markdown",
      "metadata": {
        "id": "LXLYrW_fqPTw",
        "colab_type": "text"
      },
      "source": [
        "# Imports"
      ]
    },
    {
      "cell_type": "code",
      "metadata": {
        "id": "1XSMUPwWFDYC",
        "colab_type": "code",
        "colab": {},
        "cellView": "both"
      },
      "source": [
        "import pandas as pd\n",
        "import numpy as np\n",
        "import scipy.stats as si\n",
        "import matplotlib.pyplot as plt\n",
        "\n",
        "import math\n",
        "from google.colab import files"
      ],
      "execution_count": 0,
      "outputs": []
    },
    {
      "cell_type": "markdown",
      "metadata": {
        "id": "Ibc4ykPNqjLi",
        "colab_type": "text"
      },
      "source": [
        "# Data upload and reading data to Pandas DataFrame"
      ]
    },
    {
      "cell_type": "code",
      "metadata": {
        "id": "K7lzKq8Tqbw2",
        "colab_type": "code",
        "outputId": "68dbd643-4b10-4cef-f690-a04bc94e8d42",
        "colab": {
          "resources": {
            "http://localhost:8080/nbextensions/google.colab/files.js": {
              "data": "Ly8gQ29weXJpZ2h0IDIwMTcgR29vZ2xlIExMQwovLwovLyBMaWNlbnNlZCB1bmRlciB0aGUgQXBhY2hlIExpY2Vuc2UsIFZlcnNpb24gMi4wICh0aGUgIkxpY2Vuc2UiKTsKLy8geW91IG1heSBub3QgdXNlIHRoaXMgZmlsZSBleGNlcHQgaW4gY29tcGxpYW5jZSB3aXRoIHRoZSBMaWNlbnNlLgovLyBZb3UgbWF5IG9idGFpbiBhIGNvcHkgb2YgdGhlIExpY2Vuc2UgYXQKLy8KLy8gICAgICBodHRwOi8vd3d3LmFwYWNoZS5vcmcvbGljZW5zZXMvTElDRU5TRS0yLjAKLy8KLy8gVW5sZXNzIHJlcXVpcmVkIGJ5IGFwcGxpY2FibGUgbGF3IG9yIGFncmVlZCB0byBpbiB3cml0aW5nLCBzb2Z0d2FyZQovLyBkaXN0cmlidXRlZCB1bmRlciB0aGUgTGljZW5zZSBpcyBkaXN0cmlidXRlZCBvbiBhbiAiQVMgSVMiIEJBU0lTLAovLyBXSVRIT1VUIFdBUlJBTlRJRVMgT1IgQ09ORElUSU9OUyBPRiBBTlkgS0lORCwgZWl0aGVyIGV4cHJlc3Mgb3IgaW1wbGllZC4KLy8gU2VlIHRoZSBMaWNlbnNlIGZvciB0aGUgc3BlY2lmaWMgbGFuZ3VhZ2UgZ292ZXJuaW5nIHBlcm1pc3Npb25zIGFuZAovLyBsaW1pdGF0aW9ucyB1bmRlciB0aGUgTGljZW5zZS4KCi8qKgogKiBAZmlsZW92ZXJ2aWV3IEhlbHBlcnMgZm9yIGdvb2dsZS5jb2xhYiBQeXRob24gbW9kdWxlLgogKi8KKGZ1bmN0aW9uKHNjb3BlKSB7CmZ1bmN0aW9uIHNwYW4odGV4dCwgc3R5bGVBdHRyaWJ1dGVzID0ge30pIHsKICBjb25zdCBlbGVtZW50ID0gZG9jdW1lbnQuY3JlYXRlRWxlbWVudCgnc3BhbicpOwogIGVsZW1lbnQudGV4dENvbnRlbnQgPSB0ZXh0OwogIGZvciAoY29uc3Qga2V5IG9mIE9iamVjdC5rZXlzKHN0eWxlQXR0cmlidXRlcykpIHsKICAgIGVsZW1lbnQuc3R5bGVba2V5XSA9IHN0eWxlQXR0cmlidXRlc1trZXldOwogIH0KICByZXR1cm4gZWxlbWVudDsKfQoKLy8gTWF4IG51bWJlciBvZiBieXRlcyB3aGljaCB3aWxsIGJlIHVwbG9hZGVkIGF0IGEgdGltZS4KY29uc3QgTUFYX1BBWUxPQURfU0laRSA9IDEwMCAqIDEwMjQ7Ci8vIE1heCBhbW91bnQgb2YgdGltZSB0byBibG9jayB3YWl0aW5nIGZvciB0aGUgdXNlci4KY29uc3QgRklMRV9DSEFOR0VfVElNRU9VVF9NUyA9IDMwICogMTAwMDsKCmZ1bmN0aW9uIF91cGxvYWRGaWxlcyhpbnB1dElkLCBvdXRwdXRJZCkgewogIGNvbnN0IHN0ZXBzID0gdXBsb2FkRmlsZXNTdGVwKGlucHV0SWQsIG91dHB1dElkKTsKICBjb25zdCBvdXRwdXRFbGVtZW50ID0gZG9jdW1lbnQuZ2V0RWxlbWVudEJ5SWQob3V0cHV0SWQpOwogIC8vIENhY2hlIHN0ZXBzIG9uIHRoZSBvdXRwdXRFbGVtZW50IHRvIG1ha2UgaXQgYXZhaWxhYmxlIGZvciB0aGUgbmV4dCBjYWxsCiAgLy8gdG8gdXBsb2FkRmlsZXNDb250aW51ZSBmcm9tIFB5dGhvbi4KICBvdXRwdXRFbGVtZW50LnN0ZXBzID0gc3RlcHM7CgogIHJldHVybiBfdXBsb2FkRmlsZXNDb250aW51ZShvdXRwdXRJZCk7Cn0KCi8vIFRoaXMgaXMgcm91Z2hseSBhbiBhc3luYyBnZW5lcmF0b3IgKG5vdCBzdXBwb3J0ZWQgaW4gdGhlIGJyb3dzZXIgeWV0KSwKLy8gd2hlcmUgdGhlcmUgYXJlIG11bHRpcGxlIGFzeW5jaHJvbm91cyBzdGVwcyBhbmQgdGhlIFB5dGhvbiBzaWRlIGlzIGdvaW5nCi8vIHRvIHBvbGwgZm9yIGNvbXBsZXRpb24gb2YgZWFjaCBzdGVwLgovLyBUaGlzIHVzZXMgYSBQcm9taXNlIHRvIGJsb2NrIHRoZSBweXRob24gc2lkZSBvbiBjb21wbGV0aW9uIG9mIGVhY2ggc3RlcCwKLy8gdGhlbiBwYXNzZXMgdGhlIHJlc3VsdCBvZiB0aGUgcHJldmlvdXMgc3RlcCBhcyB0aGUgaW5wdXQgdG8gdGhlIG5leHQgc3RlcC4KZnVuY3Rpb24gX3VwbG9hZEZpbGVzQ29udGludWUob3V0cHV0SWQpIHsKICBjb25zdCBvdXRwdXRFbGVtZW50ID0gZG9jdW1lbnQuZ2V0RWxlbWVudEJ5SWQob3V0cHV0SWQpOwogIGNvbnN0IHN0ZXBzID0gb3V0cHV0RWxlbWVudC5zdGVwczsKCiAgY29uc3QgbmV4dCA9IHN0ZXBzLm5leHQob3V0cHV0RWxlbWVudC5sYXN0UHJvbWlzZVZhbHVlKTsKICByZXR1cm4gUHJvbWlzZS5yZXNvbHZlKG5leHQudmFsdWUucHJvbWlzZSkudGhlbigodmFsdWUpID0+IHsKICAgIC8vIENhY2hlIHRoZSBsYXN0IHByb21pc2UgdmFsdWUgdG8gbWFrZSBpdCBhdmFpbGFibGUgdG8gdGhlIG5leHQKICAgIC8vIHN0ZXAgb2YgdGhlIGdlbmVyYXRvci4KICAgIG91dHB1dEVsZW1lbnQubGFzdFByb21pc2VWYWx1ZSA9IHZhbHVlOwogICAgcmV0dXJuIG5leHQudmFsdWUucmVzcG9uc2U7CiAgfSk7Cn0KCi8qKgogKiBHZW5lcmF0b3IgZnVuY3Rpb24gd2hpY2ggaXMgY2FsbGVkIGJldHdlZW4gZWFjaCBhc3luYyBzdGVwIG9mIHRoZSB1cGxvYWQKICogcHJvY2Vzcy4KICogQHBhcmFtIHtzdHJpbmd9IGlucHV0SWQgRWxlbWVudCBJRCBvZiB0aGUgaW5wdXQgZmlsZSBwaWNrZXIgZWxlbWVudC4KICogQHBhcmFtIHtzdHJpbmd9IG91dHB1dElkIEVsZW1lbnQgSUQgb2YgdGhlIG91dHB1dCBkaXNwbGF5LgogKiBAcmV0dXJuIHshSXRlcmFibGU8IU9iamVjdD59IEl0ZXJhYmxlIG9mIG5leHQgc3RlcHMuCiAqLwpmdW5jdGlvbiogdXBsb2FkRmlsZXNTdGVwKGlucHV0SWQsIG91dHB1dElkKSB7CiAgY29uc3QgaW5wdXRFbGVtZW50ID0gZG9jdW1lbnQuZ2V0RWxlbWVudEJ5SWQoaW5wdXRJZCk7CiAgaW5wdXRFbGVtZW50LmRpc2FibGVkID0gZmFsc2U7CgogIGNvbnN0IG91dHB1dEVsZW1lbnQgPSBkb2N1bWVudC5nZXRFbGVtZW50QnlJZChvdXRwdXRJZCk7CiAgb3V0cHV0RWxlbWVudC5pbm5lckhUTUwgPSAnJzsKCiAgY29uc3QgcGlja2VkUHJvbWlzZSA9IG5ldyBQcm9taXNlKChyZXNvbHZlKSA9PiB7CiAgICBpbnB1dEVsZW1lbnQuYWRkRXZlbnRMaXN0ZW5lcignY2hhbmdlJywgKGUpID0+IHsKICAgICAgcmVzb2x2ZShlLnRhcmdldC5maWxlcyk7CiAgICB9KTsKICB9KTsKCiAgY29uc3QgY2FuY2VsID0gZG9jdW1lbnQuY3JlYXRlRWxlbWVudCgnYnV0dG9uJyk7CiAgaW5wdXRFbGVtZW50LnBhcmVudEVsZW1lbnQuYXBwZW5kQ2hpbGQoY2FuY2VsKTsKICBjYW5jZWwudGV4dENvbnRlbnQgPSAnQ2FuY2VsIHVwbG9hZCc7CiAgY29uc3QgY2FuY2VsUHJvbWlzZSA9IG5ldyBQcm9taXNlKChyZXNvbHZlKSA9PiB7CiAgICBjYW5jZWwub25jbGljayA9ICgpID0+IHsKICAgICAgcmVzb2x2ZShudWxsKTsKICAgIH07CiAgfSk7CgogIC8vIENhbmNlbCB1cGxvYWQgaWYgdXNlciBoYXNuJ3QgcGlja2VkIGFueXRoaW5nIGluIHRpbWVvdXQuCiAgY29uc3QgdGltZW91dFByb21pc2UgPSBuZXcgUHJvbWlzZSgocmVzb2x2ZSkgPT4gewogICAgc2V0VGltZW91dCgoKSA9PiB7CiAgICAgIHJlc29sdmUobnVsbCk7CiAgICB9LCBGSUxFX0NIQU5HRV9USU1FT1VUX01TKTsKICB9KTsKCiAgLy8gV2FpdCBmb3IgdGhlIHVzZXIgdG8gcGljayB0aGUgZmlsZXMuCiAgY29uc3QgZmlsZXMgPSB5aWVsZCB7CiAgICBwcm9taXNlOiBQcm9taXNlLnJhY2UoW3BpY2tlZFByb21pc2UsIHRpbWVvdXRQcm9taXNlLCBjYW5jZWxQcm9taXNlXSksCiAgICByZXNwb25zZTogewogICAgICBhY3Rpb246ICdzdGFydGluZycsCiAgICB9CiAgfTsKCiAgaWYgKCFmaWxlcykgewogICAgcmV0dXJuIHsKICAgICAgcmVzcG9uc2U6IHsKICAgICAgICBhY3Rpb246ICdjb21wbGV0ZScsCiAgICAgIH0KICAgIH07CiAgfQoKICBjYW5jZWwucmVtb3ZlKCk7CgogIC8vIERpc2FibGUgdGhlIGlucHV0IGVsZW1lbnQgc2luY2UgZnVydGhlciBwaWNrcyBhcmUgbm90IGFsbG93ZWQuCiAgaW5wdXRFbGVtZW50LmRpc2FibGVkID0gdHJ1ZTsKCiAgZm9yIChjb25zdCBmaWxlIG9mIGZpbGVzKSB7CiAgICBjb25zdCBsaSA9IGRvY3VtZW50LmNyZWF0ZUVsZW1lbnQoJ2xpJyk7CiAgICBsaS5hcHBlbmQoc3BhbihmaWxlLm5hbWUsIHtmb250V2VpZ2h0OiAnYm9sZCd9KSk7CiAgICBsaS5hcHBlbmQoc3BhbigKICAgICAgICBgKCR7ZmlsZS50eXBlIHx8ICduL2EnfSkgLSAke2ZpbGUuc2l6ZX0gYnl0ZXMsIGAgKwogICAgICAgIGBsYXN0IG1vZGlmaWVkOiAkewogICAgICAgICAgICBmaWxlLmxhc3RNb2RpZmllZERhdGUgPyBmaWxlLmxhc3RNb2RpZmllZERhdGUudG9Mb2NhbGVEYXRlU3RyaW5nKCkgOgogICAgICAgICAgICAgICAgICAgICAgICAgICAgICAgICAgICAnbi9hJ30gLSBgKSk7CiAgICBjb25zdCBwZXJjZW50ID0gc3BhbignMCUgZG9uZScpOwogICAgbGkuYXBwZW5kQ2hpbGQocGVyY2VudCk7CgogICAgb3V0cHV0RWxlbWVudC5hcHBlbmRDaGlsZChsaSk7CgogICAgY29uc3QgZmlsZURhdGFQcm9taXNlID0gbmV3IFByb21pc2UoKHJlc29sdmUpID0+IHsKICAgICAgY29uc3QgcmVhZGVyID0gbmV3IEZpbGVSZWFkZXIoKTsKICAgICAgcmVhZGVyLm9ubG9hZCA9IChlKSA9PiB7CiAgICAgICAgcmVzb2x2ZShlLnRhcmdldC5yZXN1bHQpOwogICAgICB9OwogICAgICByZWFkZXIucmVhZEFzQXJyYXlCdWZmZXIoZmlsZSk7CiAgICB9KTsKICAgIC8vIFdhaXQgZm9yIHRoZSBkYXRhIHRvIGJlIHJlYWR5LgogICAgbGV0IGZpbGVEYXRhID0geWllbGQgewogICAgICBwcm9taXNlOiBmaWxlRGF0YVByb21pc2UsCiAgICAgIHJlc3BvbnNlOiB7CiAgICAgICAgYWN0aW9uOiAnY29udGludWUnLAogICAgICB9CiAgICB9OwoKICAgIC8vIFVzZSBhIGNodW5rZWQgc2VuZGluZyB0byBhdm9pZCBtZXNzYWdlIHNpemUgbGltaXRzLiBTZWUgYi82MjExNTY2MC4KICAgIGxldCBwb3NpdGlvbiA9IDA7CiAgICB3aGlsZSAocG9zaXRpb24gPCBmaWxlRGF0YS5ieXRlTGVuZ3RoKSB7CiAgICAgIGNvbnN0IGxlbmd0aCA9IE1hdGgubWluKGZpbGVEYXRhLmJ5dGVMZW5ndGggLSBwb3NpdGlvbiwgTUFYX1BBWUxPQURfU0laRSk7CiAgICAgIGNvbnN0IGNodW5rID0gbmV3IFVpbnQ4QXJyYXkoZmlsZURhdGEsIHBvc2l0aW9uLCBsZW5ndGgpOwogICAgICBwb3NpdGlvbiArPSBsZW5ndGg7CgogICAgICBjb25zdCBiYXNlNjQgPSBidG9hKFN0cmluZy5mcm9tQ2hhckNvZGUuYXBwbHkobnVsbCwgY2h1bmspKTsKICAgICAgeWllbGQgewogICAgICAgIHJlc3BvbnNlOiB7CiAgICAgICAgICBhY3Rpb246ICdhcHBlbmQnLAogICAgICAgICAgZmlsZTogZmlsZS5uYW1lLAogICAgICAgICAgZGF0YTogYmFzZTY0LAogICAgICAgIH0sCiAgICAgIH07CiAgICAgIHBlcmNlbnQudGV4dENvbnRlbnQgPQogICAgICAgICAgYCR7TWF0aC5yb3VuZCgocG9zaXRpb24gLyBmaWxlRGF0YS5ieXRlTGVuZ3RoKSAqIDEwMCl9JSBkb25lYDsKICAgIH0KICB9CgogIC8vIEFsbCBkb25lLgogIHlpZWxkIHsKICAgIHJlc3BvbnNlOiB7CiAgICAgIGFjdGlvbjogJ2NvbXBsZXRlJywKICAgIH0KICB9Owp9CgpzY29wZS5nb29nbGUgPSBzY29wZS5nb29nbGUgfHwge307CnNjb3BlLmdvb2dsZS5jb2xhYiA9IHNjb3BlLmdvb2dsZS5jb2xhYiB8fCB7fTsKc2NvcGUuZ29vZ2xlLmNvbGFiLl9maWxlcyA9IHsKICBfdXBsb2FkRmlsZXMsCiAgX3VwbG9hZEZpbGVzQ29udGludWUsCn07Cn0pKHNlbGYpOwo=",
              "ok": true,
              "headers": [
                [
                  "content-type",
                  "application/javascript"
                ]
              ],
              "status": 200,
              "status_text": ""
            }
          },
          "base_uri": "https://localhost:8080/",
          "height": 91
        }
      },
      "source": [
        "uploaded = files.upload()\n",
        "\n",
        "for fn in uploaded.keys():\n",
        "  print('User uploaded file \"{name}\" with length {length} bytes'.format(\n",
        "      name=fn, length=len(uploaded[fn])))\n",
        "\n",
        "data_1 =pd.read_excel('isx2010C.xls', sheet_name='isx15012010C')\n",
        "data_2 =pd.read_excel('isx2010C.xls', sheet_name='isx19022010C')\n",
        "data_3 =pd.read_excel('isx2010C.xls', sheet_name='isx17122010C')\n",
        "data_4 =pd.read_excel('isx2010C.xls', sheet_name='isx19112010C')\n",
        "data_5 =pd.read_excel('isx2010C.xls', sheet_name='isx15102010C')\n",
        "data_6 =pd.read_excel('isx2010C.xls', sheet_name='isx17092010C')\n",
        "data_7 =pd.read_excel('isx2010C.xls', sheet_name='isx20082010C')\n",
        "data_8 =pd.read_excel('isx2010C.xls', sheet_name='isx16072010C')\n",
        "data_9 =pd.read_excel('isx2010C.xls', sheet_name='isx18062010C')\n",
        "data_10=pd.read_excel('isx2010C.xls', sheet_name='isx21052010C')\n",
        "data_11=pd.read_excel('isx2010C.xls', sheet_name='isx16042010C')\n",
        "data_12=pd.read_excel('isx2010C.xls', sheet_name='isx19032010C')"
      ],
      "execution_count": 0,
      "outputs": [
        {
          "output_type": "display_data",
          "data": {
            "text/html": [
              "\n",
              "     <input type=\"file\" id=\"files-8600eda1-217e-434e-91e4-f84e525655e2\" name=\"files[]\" multiple disabled />\n",
              "     <output id=\"result-8600eda1-217e-434e-91e4-f84e525655e2\">\n",
              "      Upload widget is only available when the cell has been executed in the\n",
              "      current browser session. Please rerun this cell to enable.\n",
              "      </output>\n",
              "      <script src=\"/nbextensions/google.colab/files.js\"></script> "
            ],
            "text/plain": [
              "<IPython.core.display.HTML object>"
            ]
          },
          "metadata": {
            "tags": []
          }
        },
        {
          "output_type": "stream",
          "text": [
            "Saving isx2010C.xls to isx2010C.xls\n",
            "User uploaded file \"isx2010C.xls\" with length 808448 bytes\n"
          ],
          "name": "stdout"
        }
      ]
    },
    {
      "cell_type": "markdown",
      "metadata": {
        "id": "3R-AttDrFeJq",
        "colab_type": "text"
      },
      "source": [
        "#Renaming columns"
      ]
    },
    {
      "cell_type": "code",
      "metadata": {
        "id": "uJFZC1HDaKrX",
        "colab_type": "code",
        "colab": {}
      },
      "source": [
        "# RENAME COLUMNS ACCORDINGLY\n",
        "data_1.rename(columns= {'Unnamed: 48':'Spot price','Unnamed: 49':'Risk-free rate'}, inplace=True )\n",
        "data_2.rename(columns= {'Unnamed: 54':'Spot price','Unnamed: 55':'Risk-free rate'}, inplace=True )\n",
        "data_3.rename(columns= {'Unnamed: 46':'Spot price','Unnamed: 47':'Risk-free rate'}, inplace=True )\n",
        "data_4.rename(columns= {'Unnamed: 46':'Spot price','Unnamed: 47':'Risk-free rate'}, inplace=True )\n",
        "data_5.rename(columns= {'Unnamed: 46':'Spot price','Unnamed: 47':'Risk-free rate'}, inplace=True )\n",
        "data_6.rename(columns= {'Unnamed: 46':'Spot price','Unnamed: 47':'Risk-free rate'}, inplace=True )\n",
        "data_7.rename(columns= {'Unnamed: 47':'Spot price','Unnamed: 48':'Risk-free rate'}, inplace=True )\n",
        "data_8.rename(columns= {'Unnamed: 43':'Spot price','Unnamed: 44':'Risk-free rate'}, inplace=True )\n",
        "data_9.rename(columns= {'Unnamed: 43':'Spot price','Unnamed: 44':'Risk-free rate'}, inplace=True )\n",
        "data_10.rename(columns={'Unnamed: 43':'Spot price','Unnamed: 44':'Risk-free rate'}, inplace=True )\n",
        "data_11.rename(columns={'Unnamed: 45':'Spot price','Unnamed: 46':'Risk-free rate'}, inplace=True )\n",
        "data_12.rename(columns={'Unnamed: 46':'Spot price','Unnamed: 47':'Risk-free rate'}, inplace=True )"
      ],
      "execution_count": 0,
      "outputs": []
    },
    {
      "cell_type": "markdown",
      "metadata": {
        "id": "p6HiyjGvrBIs",
        "colab_type": "text"
      },
      "source": [
        "# Black-Scholes, Delta, Vega, Implied Volatility and MSE"
      ]
    },
    {
      "cell_type": "code",
      "metadata": {
        "id": "bU8ctPRZHdWx",
        "colab_type": "code",
        "colab": {}
      },
      "source": [
        "def BS(S, K, T, r, sigma):\n",
        "    #S: spot price\n",
        "    #K: strike price\n",
        "    #T: time to maturity\n",
        "    #r: interest rate\n",
        "    #sigma: volatility of underlying asset\n",
        "    d1 = (np.log(S / K) + (r + 0.5 * sigma ** 2) * T) / (sigma * np.sqrt(T))\n",
        "    d2 = (np.log(S / K) + (r - 0.5 * sigma ** 2) * T) / (sigma * np.sqrt(T))\n",
        "    # Returns: Option Price\n",
        "    return (S * si.norm.cdf(d1, 0.0, 1.0) - K * np.exp(-r * T) * si.norm.cdf(d2, 0.0, 1.0))\n",
        "\n",
        "  \n",
        "def delta(S, K, T, r, sigma):\n",
        "  # Rate of change of option value in respect to the price of the underlying asset\n",
        "  d1 = (np.log(S / K) + (r + 0.5 * sigma ** 2) * T) / (sigma * np.sqrt(T))\n",
        "  return si.norm.cdf(d1, 0.0, 1.0)\n",
        "\n",
        "\n",
        "def vega(S, K, T, r, sigma):\n",
        "  # Rate of change of option value in respect to the volatility of underlying asset\n",
        "  d1 = (np.log(S / K) + (r + 0.5 * sigma ** 2) * T) / (sigma * np.sqrt(T))\n",
        "  return S * si.norm.cdf(d1, 0.0, 1.0) * np.sqrt(T)\n",
        "  \n",
        "def imp_vol(call, S, K, T, r, high=2.0, low=0.0001): # Bisection-method\n",
        "  target = call\n",
        "  decimals = len(str(target).split('.')[1]) # Count decimals\n",
        "  for i in range(100000):\n",
        "    mid = (high + low) / 2\n",
        "    if mid < 0.00001:\n",
        "      mid = 0.00001\n",
        "    estimate = BS(S, K, T, r, mid)\n",
        "    # IS ESTIMATE CLOSE ENOUGH?\n",
        "    if round(estimate, decimals) == target: \n",
        "      break\n",
        "    elif estimate > target: \n",
        "      high = mid\n",
        "    elif estimate < target: \n",
        "      low = mid\n",
        "    return mid\n",
        "\n",
        "\n",
        "def MSE(change):\n",
        "  return np.mean(np.square(change))"
      ],
      "execution_count": 0,
      "outputs": []
    },
    {
      "cell_type": "markdown",
      "metadata": {
        "id": "s5KOmxzhhfL7",
        "colab_type": "text"
      },
      "source": [
        "#Delta hedge single option\n",
        "\n",
        "---\n",
        "Single options delta hedging\n",
        "\n",
        "Inputs: **Call price**: dataframe, **spot price**: dataframe, **risk-free**:dataframe, **maturity**: Int, **hedging frequency**: Int\n",
        "\n",
        "\n",
        "Output: **Hedging error**: float"
      ]
    },
    {
      "cell_type": "code",
      "metadata": {
        "id": "UlqvDfLUh0Q6",
        "colab_type": "code",
        "colab": {}
      },
      "source": [
        "def delta_hedge(call,spot,rf,strike,maturity,frequency):\n",
        "  # Days passed\n",
        "  n=0\n",
        "  i=0\n",
        "\n",
        "  A =[] # Changes in values of each portfolio for calculating MSE\n",
        "  OP=[] # Store options\n",
        "  RE=[] # Store replicating amount of underlying\n",
        "  d =[] # Store deltas\n",
        "  \n",
        "  # Initial positions\n",
        "  OP.append(call.iloc[n])\n",
        "  vol=imp_vol(call.iloc[n], spot.iloc[n], strike, maturity/365, rf.iloc[n])\n",
        "  d.append(delta(spot.iloc[n], strike, maturity/365, rf.iloc[n], vol))\n",
        "  RE.append(d[i]*spot.iloc[n])\n",
        "\n",
        "  # MAIN LOOP\n",
        "  while n+1<maturity:\n",
        "    n+=1 #Day passes\n",
        "    OP.append(call.iloc[n])\n",
        "    RE.append(d[i]*spot.iloc[n])\n",
        "    A.append((OP[n]-OP[n-1])-(RE[n]-RE[n-1]))\n",
        "    \n",
        "    ### REHEDGE POSITION ###\n",
        "    if n>2 and n%frequency==0: # Update hedge position\n",
        "      i+=1\n",
        "      # Update volatility\n",
        "      vol=imp_vol(call.iloc[n], spot.iloc[n], strike, (maturity-n)/365, rf.iloc[n])\n",
        "      \n",
        "      # Update delta\n",
        "      d.append(delta(spot.iloc[n], strike, (maturity-n)/365, rf.iloc[n], vol))\n",
        "      \n",
        "  # RETURN: Hedging error\n",
        "  return MSE(A)"
      ],
      "execution_count": 0,
      "outputs": []
    },
    {
      "cell_type": "code",
      "metadata": {
        "id": "0Ylm7vkcsE-J",
        "colab_type": "code",
        "outputId": "ff56b68b-20b3-475b-b7c6-b3c6c98b7d83",
        "colab": {
          "base_uri": "https://localhost:8080/",
          "height": 119
        }
      },
      "source": [
        "# SHEET 1\n",
        "spot1=data_1['Spot price']\n",
        "spot1=spot1.drop(spot1.index[0:42]).dropna()\n",
        "\n",
        "rf1=data_1['Risk-free rate']\n",
        "rf1=rf1.drop(rf1.index[0:42]).dropna()\n",
        "\n",
        "atm1=data_1.iloc[:,37] # ATM call Maturity = 45days, Strike = 520, Spot = 516.54\n",
        "atm1=atm1.drop(atm1.index[0:42]).dropna()\n",
        "\n",
        "itm1=data_1.iloc[:,31] # ITM  Strike = 490\n",
        "itm1=itm1.drop(itm1.index[0:42]).dropna()\n",
        "\n",
        "otm1=data_1.iloc[:,43] # OTM Strike = 550\n",
        "otm1=otm1.drop(otm1.index[0:42]).dropna()\n",
        "\n",
        "maturity=43.0\n",
        "\n",
        "atm_strike=520.0\n",
        "itm_strike=490.0\n",
        "otm_strike=550.0\n",
        "\n",
        "print(\"Sheet 1 ATM, Hedging error, everyother day: \",delta_hedge(atm1,spot1,rf1,atm_strike,maturity,2)) # everyother day\n",
        "print(\"Sheet 1 ATM, Hedging error, every 7 days:   \",delta_hedge(atm1,spot1,rf1,atm_strike,maturity,7)) # once a week\n",
        "\n",
        "print(\"Sheet 1 ITM, Hedging error, everyother day: \",delta_hedge(itm1,spot1,rf1,itm_strike,maturity,2)) # everyother day\n",
        "print(\"Sheet 1 ITM, Hedging error, every 7 days:   \",delta_hedge(itm1,spot1,rf1,itm_strike,maturity,7)) # once a week\n",
        "\n",
        "print(\"Sheet 1 OTM, Hedging error, everyother day: \",delta_hedge(otm1,spot1,rf1,otm_strike,maturity,2)) # everyother day\n",
        "print(\"Sheet 1 OTM, Hedging error, every 7 days:   \",delta_hedge(otm1,spot1,rf1,otm_strike,maturity,7)) # once a week"
      ],
      "execution_count": 0,
      "outputs": [
        {
          "output_type": "stream",
          "text": [
            "Sheet 1 ATM, Hedging error, everyother day:  28.0109379000415\n",
            "Sheet 1 ATM, Hedging error, every 7 days:    17.998682378374173\n",
            "Sheet 1 ITM, Hedging error, everyother day:  60.22800058967588\n",
            "Sheet 1 ITM, Hedging error, every 7 days:    38.44415038142632\n",
            "Sheet 1 OTM, Hedging error, everyother day:  292403.93350430153\n",
            "Sheet 1 OTM, Hedging error, every 7 days:    291602.32492777286\n"
          ],
          "name": "stdout"
        }
      ]
    },
    {
      "cell_type": "code",
      "metadata": {
        "id": "7ukk7XCO52rq",
        "colab_type": "code",
        "outputId": "72b62db1-bc77-4901-cae5-287bf6a91896",
        "colab": {
          "base_uri": "https://localhost:8080/",
          "height": 71
        }
      },
      "source": [
        "# SHEET 2\n",
        "spot2=data_2['Spot price']\n",
        "spot2=spot2.drop(spot2.index[0:45]).dropna()\n",
        "\n",
        "rf2=data_2['Risk-free rate']\n",
        "rf2=rf2.drop(rf2.index[0:45]).dropna()\n",
        "\n",
        "atm2=data_2.iloc[:,37] # ATM call Maturity = 45days, Strike = 515, Spot = 513.94\n",
        "atm2=atm2.drop(atm2.index[0:45]).dropna()\n",
        "\n",
        "itm2=data_2.iloc[:,31] # ITM  Strike = 485\n",
        "itm2=itm2.drop(itm2.index[0:45]).dropna()\n",
        "\n",
        "otm2=data_2.iloc[:,43] # OTM Strike = 545\n",
        "otm2=otm2.drop(otm2.index[0:45]).dropna()\n",
        "\n",
        "atm_strike2=515\n",
        "itm_strike2=485\n",
        "otm_strike2=545\n",
        "\n",
        "print(\"Sheet 2 ATM, Hedging error, everyother day: \",delta_hedge(atm2,spot2,rf2,atm_strike2,maturity,2)) # everyother day\n",
        "print(\"Sheet 2 ATM, Hedging error, every 7 days:   \",delta_hedge(atm2,spot2,rf2,atm_strike2,maturity,7)) # once a week\n",
        "\n",
        "print(\"Sheet 2 ITM, Hedging error, everyother day: \",delta_hedge(itm2,spot2,rf2,itm_strike2,maturity,2)) # everyother day\n",
        "print(\"Sheet 2 ITM, Hedging error, every 7 days:   \",delta_hedge(itm2,spot2,rf2,itm_strike2,maturity,7)) # once a week\n",
        "\n",
        "print(\"Sheet 2 OTM, Hedging error, everyother day: \",delta_hedge(otm2,spot2,rf2,otm_strike2,maturity,2)) # everyother day\n",
        "print(\"Sheet 2 OTM, Hedging error, every 7 days:   \",delta_hedge(otm2,spot2,rf2,otm_strike2,maturity,7)) # once a week"
      ],
      "execution_count": 0,
      "outputs": [
        {
          "output_type": "stream",
          "text": [
            "Sheet 2 ATM, Hedging error, everyother day:  ([-0.49111424938267945, -0.285638952331448, -0.3335791391081955, 0.0, -5.676990393501024, 0.22086731691405248, -0.38163286745738034, 1.064273345830447, 6.744542125123701, -1.7258838380994987, -11.468545556512026, -0.1293056484908437, -1.4374489208074923, -0.13943585822987714, -3.5375604738766278, 0.7575181136245916, 4.789661489613252, 0.2767375722243628, -7.95709515841412, 0.0, 8.287405224400265, -0.10870209348699866, 0.9636388627651051, 4.669504096036337, 35.99673616763423, 0.3142292598014138, 1.0899210591171427, 1.6044419473683944, 10.31130320180572, -2.8815675078205114, -2.4659675706900615, 0.8568073633400219, 1.595988070763657, -0.8290095314390953, 39.418010329924435, -2.591629554383843, 5.354599350313748, -1.8022118567697476, 2.4495672859322815, 0.0, 23.968295859661705, -0.6730804974526166], 95.34723534966868)\n",
            "Sheet 2 ATM, Hedging error, every 7 days:    ([-0.49111424938267945, -0.285638952331448, -0.3335791391081955, 0.0, -0.45403373710845507, 0.21704414443422593, -0.5356753201713893, -3.7528323713992613, 0.0, -1.8350675429923697, -0.5854370723837405, -0.1316701866356187, -0.07830869355037784, -0.1242356378528946, -9.186904351446689, 0.7575181136245916, -0.6717976698133157, 0.25956479893125106, -0.7303705410503198, 0.0, -1.0395510400716947, -1.8374777471330948, 1.560970870848461, 4.869078948923959, -2.214200585580977, 0.4901740240200412, -1.2902656156095302, 2.1725376426301977, 58.66911854277013, -2.8815675078205114, -2.3515675078205405, 0.8562709404828412, 6.1157212689497165, -0.8170017203416478, 2.0813682868772445, 46.41442931873479, 0.2891920441764455, -1.7041784926893115, 0.6077901789552618, 0.0, -3.1682303643880836, -0.7403316330916994], 138.43422382340978)\n"
          ],
          "name": "stdout"
        }
      ]
    },
    {
      "cell_type": "code",
      "metadata": {
        "id": "lPy-muye56qG",
        "colab_type": "code",
        "outputId": "ad85c8f2-9795-4047-bb79-fbf423ccd2be",
        "colab": {
          "base_uri": "https://localhost:8080/",
          "height": 71
        }
      },
      "source": [
        "# SHEET 3\n",
        "spot3=data_3['Spot price']\n",
        "spot3=spot.drop(spot.index[0:133]).dropna()\n",
        "\n",
        "rf3=data_3['Risk-free rate']\n",
        "rf3=rf3.drop(rf3.index[0:133]).dropna()\n",
        "\n",
        "atm3=data_3.iloc[:,40] # ATM call Maturity = 45days, Strike = 535, Spot = 535.23\n",
        "atm3=atm.drop(atm.index[0:133]).dropna()\n",
        "\n",
        "itm3=data_3.iloc[:,37]\n",
        "itm3=itm3.drop(itm3.index[0:45]).dropna()\n",
        "\n",
        "otm2=data_2.iloc[:,43]\n",
        "otm2=otm2.drop(otm2.index[0:45]).dropna()\n",
        "\n",
        "atm_strike3=535\n",
        "itm_strike3=520\n",
        "otm_strike3=550\n",
        "\n",
        "\n",
        "print(\"Sheet 3 ATM, Hedging error, everyother day: \",delta_hedge(atm3,spot3,rf3,atm_strike3,maturity,2)) # everyother day\n",
        "print(\"Sheet 3 ATM, Hedging error, every 7 days:   \",delta_hedge(atm3,spot3,rf3,atm_strike3,maturity,7)) # once a week\n",
        "\n",
        "print(\"Sheet 3 ITM, Hedging error, everyother day: \",delta_hedge(itm3,spot3,rf3,itm_strike3,maturity,2)) # everyother day\n",
        "print(\"Sheet 3 ITM, Hedging error, every 7 days:   \",delta_hedge(itm3,spot3,rf3,itm_strike3,maturity,7)) # once a week\n",
        "\n",
        "print(\"Sheet 3 OTM, Hedging error, everyother day: \",delta_hedge(otm3,spot3,rf3,otm_strike3,maturity,2)) # everyother day\n",
        "print(\"Sheet 3 OTM, Hedging error, every 7 days:   \",delta_hedge(otm3,spot3,rf3,otm_strike3,maturity,7)) # once a week"
      ],
      "execution_count": 0,
      "outputs": [
        {
          "output_type": "stream",
          "text": [
            "Sheet 3, Hedging error, everyother day:  ([1.9062588071400892, -0.6373421923618068, -1.2791738161554864, -0.32882047626818434, 4.206270043016115, -0.8247130638245395, -0.5534329725531837, 0.6463654242651611, 2.5278843062554195, -0.04415594562371972, 1.694328431491181, -1.4280908599804096, -11.197098322159844, 3.255185756515008, -15.249466593435674, -0.050490817760316276, 6.778359520694906, -0.6121121950862545, 2.308633346286854, 0.5582310098857981, 11.530912116444632, -0.1484652977755445, 13.98929216163566, -1.219745892259267, -14.611193503828735, 1.0169082764626411, 17.140535936623415, 0.0, -11.379480051371331, 0.18988542229406047, 10.420115981674064, -0.8327326549665832, -14.604530552202672, -0.623334280956616, -18.459407235239475, 0.6156973858754444, -2.58676818101128, 1.1521191741416956, -20.591421123755232, 0.7511733514258268, -28.97500553106269, 0.5120754005274826], 80.02786738590139)\n",
            "Sheet 3, Hedging error, every 7 days:    ([1.9062588071400892, -0.6373421923618068, -1.2791738161554864, -0.32882047626818434, 0.7946765361301793, -0.8278384018786724, -0.25564041728198283, 6.676910782137076, -0.014406095769015081, -0.0436195850906298, -0.725917232447534, -1.4382653145352382, -3.7896870316992715, 3.2738316839297035, -20.6169687195291, -0.050490817760316276, -0.6197545911198716, -0.568103839506719, -0.17309048370998426, 0.5691552588061306, 0.6451218703501596, 34.16520211451365, -1.5319283271241488, -1.2231265991212705, -0.09779956799926559, 0.8409600267282373, -1.0372159828599257, 0.0, -5.617544451244214, 0.18988542229406047, 0.6786003905492404, -1.0436612107028287, 0.8295258193860526, -0.610319056138966, -0.3134902164377191, -22.527024880646685, -0.6790978586985261, 1.1624989555026346, 0.38870652177481446, 0.7738443008283653, 0.0986866105324431, 0.28562080556237746], 52.93530024264448)\n"
          ],
          "name": "stdout"
        }
      ]
    },
    {
      "cell_type": "code",
      "metadata": {
        "id": "3U4Up3-159lh",
        "colab_type": "code",
        "outputId": "1130e6f9-062c-413e-e30c-bf7a8d31e798",
        "colab": {
          "base_uri": "https://localhost:8080/",
          "height": 71
        }
      },
      "source": [
        "# SHEET 4\n",
        "spot4=data_4['Spot price']\n",
        "spot4=spot.drop(spot4.index[0:45]).dropna()\n",
        "\n",
        "rf4=data_4['Risk-free rate']\n",
        "rf4=rf4.drop(rf4.index[0:133]).dropna()\n",
        "\n",
        "atm4=data_4.iloc[:,36] # ATM call Maturity = 45days, Strike = 535, Spot = 535.23\n",
        "atm4=atm4.drop(atm4.index[0:133]).dropna()\n",
        "\n",
        "itm4=data_4.iloc[:,31]\n",
        "itm4=itm4.drop(itm4.index[0:45]).dropna()\n",
        "\n",
        "otm4=data_4.iloc[:,41]\n",
        "otm4=otm4.drop(otm4.index[0:45]).dropna()\n",
        "\n",
        "atm_strike4=515\n",
        "itm_strike4=490\n",
        "otm_strike4=550\n",
        "\n",
        "\n",
        "print(\"Sheet 4 ATM, Hedging error, everyother day: \",delta_hedge(atm4,spot4,rf4,atm_strike4,maturity,2)) # everyother day\n",
        "print(\"Sheet 4 ATM, Hedging error, every 7 days:   \",delta_hedge(atm4,spot4,rf4,atm_strike4,maturity,7)) # once a week\n",
        "\n",
        "print(\"Sheet 4 ITM, Hedging error, everyother day: \",delta_hedge(itm4,spot4,rf4,itm_strike4,maturity,2)) # everyother day\n",
        "print(\"Sheet 4 ITM, Hedging error, every 7 days:   \",delta_hedge(itm4,spot4,rf4,itm_strike4,maturity,7)) # once a week\n",
        "\n",
        "print(\"Sheet 4 OTM, Hedging error, everyother day: \",delta_hedge(otm4,spot4,rf4,otm_strike4,maturity,2)) # everyother day\n",
        "print(\"Sheet 4 OTM, Hedging error, every 7 days:   \",delta_hedge(otm4,spot4,rf4,otm_strike4,maturity,7)) # once a week"
      ],
      "execution_count": 0,
      "outputs": [
        {
          "output_type": "stream",
          "text": [
            "Sheet 4, Hedging error, everyother day:  ([0.24074669802996596, -0.09485616066164049, 0.8338109281817196, -1.6416594898021124, -1.7442944202860424, -0.40498351097909335, 3.211645135464643, -0.12002043200644863, 4.776301398850933, -0.331751848049441, 1.7067805530058546, 0.6790118976158155, -14.54894654416297, 0.7703063687431495, -0.17045621252752952, -2.772925574812067, 0.04658520516973397, -1.8464783362998851, -1.854513548289237, 0.6233517610280188, -7.817277396014639, 1.0968176228206516, 2.8929919135113416, 0.701056176695058, -2.683402512117791, -1.053965018282156, -3.213801012260479, 0.6627306436120897, 1.643456403877508, 0.5209999813791342, 0.226054366270386, 1.9906489064172987, -16.02089008542731, 0.9924758397648219, -31.21747794929105, 1.972898256319489, -1.5981686894968945, 0.848242748106248, -10.890540939403195, 0.3814276433580055, 2.811311436950529, -2.4729948038322256], 41.42551157475967)\n",
            "Sheet 4, Hedging error, every 7 days:    ([0.24074669802996596, -0.09485616066164049, 0.8338109281817196, -1.6416594898021124, 0.38509408359676556, -0.39871684458489653, 0.6051438393384174, 2.969647577694637, -0.5041197113438898, -0.31163110064020394, -1.3515944806597862, 0.6700863177813048, -0.8179185648826994, 0.8144495063539807, -8.236848236984759, -2.772925574812067, 2.586675470527396, -1.855265923424799, -0.22630320554192807, 0.6582246517612163, 0.05329137594825539, 1.9603107215752402, -1.5109922038416492, 0.7127212658779989, 0.18668174446006347, -1.0435158626298744, -0.9238575066446977, 0.6827706676504839, -12.083189292267491, 0.5209999813791342, -0.09546762170264245, 1.9890518834833628, -0.45536389197758353, 1.045610343179007, 1.1269610641113985, -47.33802635983998, -4.687397610410692, 0.8765590697655519, -2.074557365766964, 0.3768915724340438, 1.3441848232653903, -2.4759935680253626], 60.49915032557169)\n"
          ],
          "name": "stdout"
        }
      ]
    },
    {
      "cell_type": "code",
      "metadata": {
        "id": "X5hZ9iD5VYWc",
        "colab_type": "code",
        "colab": {}
      },
      "source": [
        "# SHEET 5\n",
        "spot5=data_5['Spot price']\n",
        "spot5=spot5.drop(spot5.index[0:45]).dropna()\n",
        "\n",
        "rf5=data_5['Risk-free rate']\n",
        "rf5=rf5.drop(rf5.index[0:133]).dropna()\n",
        "\n",
        "atm5=data_5.iloc[:,30] \n",
        "atm5=atm5.drop(atm5.index[0:133]).dropna()\n",
        "\n",
        "itm5=data_5.iloc[:,27]\n",
        "itm5=itm5.drop(itm5.index[0:45]).dropna()\n",
        "\n",
        "otm5=data_5.iloc[:,33]\n",
        "otm5=otm5.drop(otm5.index[0:45]).dropna()\n",
        "\n",
        "atm_strike5=485\n",
        "itm_strike5=470\n",
        "otm_strike5=500\n",
        "\n",
        "\n",
        "print(\"Sheet 5 ATM, Hedging error, everyother day: \",delta_hedge(atm5,spot5,rf5,atm_strike5,maturity,2)) # everyother day\n",
        "print(\"Sheet 5 ATM, Hedging error, every 7 days:   \",delta_hedge(atm5,spot5,rf5,atm_strike5,maturity,7)) # once a week\n",
        "\n",
        "print(\"Sheet 5 ITM, Hedging error, everyother day: \",delta_hedge(itm5,spot5,rf5,itm_strike5,maturity,2)) # everyother day\n",
        "print(\"Sheet 5 ITM, Hedging error, every 7 days:   \",delta_hedge(itm5,spot5,rf5,itm_strike5,maturity,7)) # once a week\n",
        "\n",
        "print(\"Sheet 5 OTM, Hedging error, everyother day: \",delta_hedge(otm5,spot5,rf5,otm_strike5,maturity,2)) # everyother day\n",
        "print(\"Sheet 5 OTM, Hedging error, every 7 days:   \",delta_hedge(otm5,spot5,rf5,otm_strike5,maturity,7)) # once a week"
      ],
      "execution_count": 0,
      "outputs": []
    },
    {
      "cell_type": "code",
      "metadata": {
        "id": "D0VE4-g6Va4e",
        "colab_type": "code",
        "colab": {}
      },
      "source": [
        "# SHEET 6\n",
        "spot6=data_6['Spot price']\n",
        "spot6=spot6.drop(spot6.index[0:45]).dropna()\n",
        "\n",
        "rf6=data_6['Risk-free rate']\n",
        "rf6=rf6.drop(rf6.index[0:133]).dropna()\n",
        "\n",
        "atm6=data_6.iloc[:,30] \n",
        "atm6=atm6.drop(atm6.index[0:133]).dropna()\n",
        "\n",
        "itm6=data_6.iloc[:,27]\n",
        "itm6=itm6.drop(itm6.index[0:45]).dropna()\n",
        "\n",
        "otm6=data_6.iloc[:,33]\n",
        "otm6=otm6.drop(otm6.index[0:45]).dropna()\n",
        "\n",
        "atm_strike6=485\n",
        "itm_strike6=470\n",
        "otm_strike6=500\n",
        "\n",
        "\n",
        "print(\"Sheet 6 ATM, Hedging error, everyother day: \",delta_hedge(atm6,spot6,rf6,atm_strike6,maturity,2)) # everyother day\n",
        "print(\"Sheet 6 ATM, Hedging error, every 7 days:   \",delta_hedge(atm6,spot6,rf6,atm_strike6,maturity,7)) # once a week\n",
        "\n",
        "print(\"Sheet 6 ITM, Hedging error, everyother day: \",delta_hedge(itm6,spot6,rf6,itm_strike6,maturity,2)) # everyother day\n",
        "print(\"Sheet 6 ITM, Hedging error, every 7 days:   \",delta_hedge(itm6,spot6,rf6,itm_strike6,maturity,7)) # once a week\n",
        "\n",
        "print(\"Sheet 6 OTM, Hedging error, everyother day: \",delta_hedge(otm6,spot6,rf6,otm_strike6,maturity,2)) # everyother day\n",
        "print(\"Sheet 6 OTM, Hedging error, every 7 days:   \",delta_hedge(otm6,spot6,rf6,otm_strike6,maturity,7)) # once a week"
      ],
      "execution_count": 0,
      "outputs": []
    },
    {
      "cell_type": "code",
      "metadata": {
        "id": "YYDaxDSMVbNP",
        "colab_type": "code",
        "colab": {}
      },
      "source": [
        "# SHEET 7\n",
        "spot7=data_7['Spot price']\n",
        "spot7=spot7.drop(spot7.index[0:45]).dropna()\n",
        "\n",
        "rf7=data_7['Risk-free rate']\n",
        "rf7=rf7.drop(rf7.index[0:133]).dropna()\n",
        "\n",
        "atm7=data_7.iloc[:,34] \n",
        "atm7=atm7.drop(atm7.index[0:133]).dropna()\n",
        "\n",
        "itm7=data_7.iloc[:,31]\n",
        "itm7=itm7.drop(itm7.index[0:45]).dropna()\n",
        "\n",
        "otm7=data_7.iloc[:,37]\n",
        "otm7=otm7.drop(otm7.index[0:45]).dropna()\n",
        "\n",
        "atm_strike7=505\n",
        "itm_strike7=490\n",
        "otm_strike7=520\n",
        "\n",
        "\n",
        "print(\"Sheet 7 ATM, Hedging error, everyother day: \",delta_hedge(atm7,spot7,rf7,atm_strike7,maturity,2)) # everyother day\n",
        "print(\"Sheet 7 ATM, Hedging error, every 7 days:   \",delta_hedge(atm7,spot7,rf7,atm_strike7,maturity,7)) # once a week\n",
        "\n",
        "print(\"Sheet 7 ITM, Hedging error, everyother day: \",delta_hedge(itm7,spot7,rf7,itm_strike7,maturity,2)) # everyother day\n",
        "print(\"Sheet 7 ITM, Hedging error, every 7 days:   \",delta_hedge(itm7,spot7,rf7,itm_strike7,maturity,7)) # once a week\n",
        "\n",
        "print(\"Sheet 7 OTM, Hedging error, everyother day: \",delta_hedge(otm7,spot7,rf7,otm_strike7,maturity,2)) # everyother day\n",
        "print(\"Sheet 7 OTM, Hedging error, every 7 days:   \",delta_hedge(otm7,spot7,rf7,otm_strike7,maturity,7)) # once a week"
      ],
      "execution_count": 0,
      "outputs": []
    },
    {
      "cell_type": "code",
      "metadata": {
        "id": "SixVZ5ggVbq1",
        "colab_type": "code",
        "colab": {}
      },
      "source": [
        "# SHEET 8\n",
        "spot8=data_8['Spot price']\n",
        "spot8=spot8.drop(spot8.index[0:45]).dropna()\n",
        "\n",
        "rf8=data_8['Risk-free rate']\n",
        "rf8=rf8.drop(rf8.index[0:133]).dropna()\n",
        "\n",
        "atm8=data_8.iloc[:,34] \n",
        "atm8=atm8.drop(atm8.index[0:133]).dropna()\n",
        "\n",
        "itm8=data_8.iloc[:,30]\n",
        "itm8=itm8.drop(itm8.index[0:45]).dropna()\n",
        "\n",
        "otm8=data_8.iloc[:,38]\n",
        "otm8=otm8.drop(otm8.index[0:45]).dropna()\n",
        "\n",
        "atm_strike8=520\n",
        "itm_strike8=500\n",
        "otm_strike8=540\n",
        "\n",
        "\n",
        "print(\"Sheet 8 ATM, Hedging error, everyother day: \",delta_hedge(atm8,spot8,rf8,atm_strike8,maturity,2)) # everyother day\n",
        "print(\"Sheet 8 ATM, Hedging error, every 7 days:   \",delta_hedge(atm8,spot8,rf8,atm_strike8,maturity,7)) # once a week\n",
        "\n",
        "print(\"Sheet 8 ITM, Hedging error, everyother day: \",delta_hedge(itm8,spot8,rf8,itm_strike8,maturity,2)) # everyother day\n",
        "print(\"Sheet 8 ITM, Hedging error, every 7 days:   \",delta_hedge(itm8,spot8,rf8,itm_strike8,maturity,7)) # once a week\n",
        "\n",
        "print(\"Sheet 8 OTM, Hedging error, everyother day: \",delta_hedge(otm8,spot8,rf8,otm_strike8,maturity,2)) # everyother day\n",
        "print(\"Sheet 8 OTM, Hedging error, every 7 days:   \",delta_hedge(otm8,spot8,rf8,otm_strike8,maturity,7)) # once a week"
      ],
      "execution_count": 0,
      "outputs": []
    },
    {
      "cell_type": "code",
      "metadata": {
        "id": "rcojU88JVbxm",
        "colab_type": "code",
        "colab": {}
      },
      "source": [
        "# SHEET 9\n",
        "spot9=data_9['Spot price']\n",
        "spot9=spot9.drop(spot9.index[0:45]).dropna()\n",
        "\n",
        "rf9=data_9['Risk-free rate']\n",
        "rf9=rf9.drop(rf9.index[0:133]).dropna()\n",
        "\n",
        "atm9=data_9.iloc[:,40] \n",
        "atm9=atm9.drop(atm9.index[0:133]).dropna()\n",
        "\n",
        "itm9=data_9.iloc[:,38]\n",
        "itm9=itm9.drop(itm9.index[0:45]).dropna()\n",
        "\n",
        "otm9=data_9.iloc[:,42]\n",
        "otm9=otm9.drop(otm9.index[0:45]).dropna()\n",
        "\n",
        "atm_strike9=550\n",
        "itm_strike9=540\n",
        "otm_strike9=560\n",
        "\n",
        "\n",
        "print(\"Sheet 9 ATM, Hedging error, everyother day: \",delta_hedge(atm9,spot9,rf9,atm_strike9,maturity,2)) # everyother day\n",
        "print(\"Sheet 9 ATM, Hedging error, every 7 days:   \",delta_hedge(atm9,spot9,rf9,atm_strike9,maturity,7)) # once a week\n",
        "\n",
        "print(\"Sheet 9 ITM, Hedging error, everyother day: \",delta_hedge(itm9,spot9,rf9,itm_strike9,maturity,2)) # everyother day\n",
        "print(\"Sheet 9 ITM, Hedging error, every 7 days:   \",delta_hedge(itm9,spot9,rf9,itm_strike9,maturity,7)) # once a week\n",
        "\n",
        "print(\"Sheet 9 OTM, Hedging error, everyother day: \",delta_hedge(otm9,spot9,rf9,otm_strike9,maturity,2)) # everyother day\n",
        "print(\"Sheet 9 OTM, Hedging error, every 7 days:   \",delta_hedge(otm9,spot9,rf9,otm_strike9,maturity,7)) # once a week"
      ],
      "execution_count": 0,
      "outputs": []
    },
    {
      "cell_type": "code",
      "metadata": {
        "id": "J7eZITl_Vb0U",
        "colab_type": "code",
        "colab": {}
      },
      "source": [
        "# SHEET 10\n",
        "spot10=data_10['Spot price']\n",
        "spot10=spot10.drop(spot10.index[0:45]).dropna()\n",
        "\n",
        "rf10=data_10['Risk-free rate']\n",
        "rf10=rf10.drop(rf10.index[0:133]).dropna()\n",
        "\n",
        "atm10=data_10.iloc[:,37] \n",
        "atm10=atm10.drop(atm10.index[0:133]).dropna()\n",
        "\n",
        "itm10=data_10.iloc[:,34]\n",
        "itm10=itm10.drop(itm10.index[0:45]).dropna()\n",
        "\n",
        "otm10=data_10.iloc[:,40]\n",
        "otm10=otm10.drop(otm10.index[0:45]).dropna()\n",
        "\n",
        "atm_strike10=535\n",
        "itm_strike10=520\n",
        "otm_strike10=550\n",
        "\n",
        "\n",
        "print(\"Sheet 10 ATM, Hedging error, everyother day: \",delta_hedge(atm10,spot10,rf10,atm_strike10,maturity,2)) # everyother day\n",
        "print(\"Sheet 10 ATM, Hedging error, every 7 days:   \",delta_hedge(atm10,spot10,rf10,atm_strike10,maturity,7)) # once a week\n",
        "\n",
        "print(\"Sheet 10 ITM, Hedging error, everyother day: \",delta_hedge(itm10,spot10,rf10,itm_strike10,maturity,2)) # everyother day\n",
        "print(\"Sheet 10 ITM, Hedging error, every 7 days:   \",delta_hedge(itm10,spot10,rf10,itm_strike10,maturity,7)) # once a week\n",
        "\n",
        "print(\"Sheet 10 OTM, Hedging error, everyother day: \",delta_hedge(otm10,spot10,rf10,otm_strike10,maturity,2)) # everyother day\n",
        "print(\"Sheet 10 OTM, Hedging error, every 7 days:   \",delta_hedge(otm10,spot10,rf10,otm_strike10,maturity,7)) # once a week"
      ],
      "execution_count": 0,
      "outputs": []
    },
    {
      "cell_type": "code",
      "metadata": {
        "id": "o2X5h530Vb3W",
        "colab_type": "code",
        "colab": {}
      },
      "source": [
        "# SHEET 11\n",
        "spot11=data_11['Spot price']\n",
        "spot11=spot11.drop(spot11.index[0:45]).dropna()\n",
        "\n",
        "rf11=data_11['Risk-free rate']\n",
        "rf11=rf11.drop(rf11.index[0:133]).dropna()\n",
        "\n",
        "atm11=data_11.iloc[:,32] \n",
        "atm11=atm11.drop(atm11.index[0:133]).dropna()\n",
        "\n",
        "itm11=data_11.iloc[:,28]\n",
        "itm11=itm11.drop(itm11.index[0:45]).dropna()\n",
        "\n",
        "otm11=data_11.iloc[:,34]\n",
        "otm11=otm11.drop(otm11.index[0:45]).dropna()\n",
        "\n",
        "atm_strike11=500\n",
        "itm_strike11=480\n",
        "otm_strike11=520\n",
        "\n",
        "\n",
        "print(\"Sheet 11 ATM, Hedging error, everyother day: \",delta_hedge(atm11,spot11,rf11,atm_strike11,maturity,2)) # everyother day\n",
        "print(\"Sheet 11 ATM, Hedging error, every 7 days:   \",delta_hedge(atm11,spot11,rf11,atm_strike11,maturity,7)) # once a week\n",
        "\n",
        "print(\"Sheet 11 ITM, Hedging error, everyother day: \",delta_hedge(itm11,spot11,rf11,itm_strike11,maturity,2)) # everyother day\n",
        "print(\"Sheet 11 ITM, Hedging error, every 7 days:   \",delta_hedge(itm11,spot11,rf11,itm_strike11,maturity,7)) # once a week\n",
        "\n",
        "print(\"Sheet 11 OTM, Hedging error, everyother day: \",delta_hedge(otm11,spot11,rf11,otm_strike11,maturity,2)) # everyother day\n",
        "print(\"Sheet 11 OTM, Hedging error, every 7 days:   \",delta_hedge(otm11,spot11,rf11,otm_strike11,maturity,7)) # once a week"
      ],
      "execution_count": 0,
      "outputs": []
    },
    {
      "cell_type": "code",
      "metadata": {
        "id": "pzz70lDPVhrF",
        "colab_type": "code",
        "colab": {}
      },
      "source": [
        "# SHEET 12\n",
        "spot12=data_12['Spot price']\n",
        "spot12=spot12.drop(spot12.index[0:45]).dropna()\n",
        "\n",
        "rf12=data_12['Risk-free rate']\n",
        "rf12=rf12.drop(rf12.index[0:133]).dropna()\n",
        "\n",
        "atm12=data_12.iloc[:,37] \n",
        "atm12=atm12.drop(atm12.index[0:133]).dropna()\n",
        "\n",
        "itm12=data_12.iloc[:,33]\n",
        "itm12=itm12.drop(itm12.index[0:45]).dropna()\n",
        "\n",
        "otm12=data_12.iloc[:,41]\n",
        "otm12=otm12.drop(otm12.index[0:45]).dropna()\n",
        "\n",
        "atm_strike12=520\n",
        "itm_strike12=500\n",
        "otm_strike12=540\n",
        "\n",
        "\n",
        "print(\"Sheet 12 ATM, Hedging error, everyother day: \",delta_hedge(atm12,spot12,rf12,atm_strike12,maturity,2)) # everyother day\n",
        "print(\"Sheet 12 ATM, Hedging error, every 7 days:   \",delta_hedge(atm12,spot12,rf12,atm_strike12,maturity,7)) # once a week\n",
        "\n",
        "print(\"Sheet 12 ITM, Hedging error, everyother day: \",delta_hedge(itm12,spot12,rf12,itm_strike12,maturity,2)) # everyother day\n",
        "print(\"Sheet 12 ITM, Hedging error, every 7 days:   \",delta_hedge(itm12,spot12,rf12,itm_strike12,maturity,7)) # once a week\n",
        "\n",
        "print(\"Sheet 12 OTM, Hedging error, everyother day: \",delta_hedge(otm12,spot12,rf12,otm_strike12,maturity,2)) # everyother day\n",
        "print(\"Sheet 12 OTM, Hedging error, every 7 days:   \",delta_hedge(otm12,spot12,rf12,otm_strike12,maturity,7)) # once a week"
      ],
      "execution_count": 0,
      "outputs": []
    },
    {
      "cell_type": "markdown",
      "metadata": {
        "id": "BXM69fL2Lw9R",
        "colab_type": "text"
      },
      "source": [
        "#Delta-Vega hedge single option\n",
        "---\n",
        "Short position with maturity T\n",
        "\n",
        "Alpha-amount of underlying stock\n",
        "\n",
        "Eta-amount of replicating option, same underlying with same strike prices, but a longer maturity T2>T\n",
        "\n",
        "---\n",
        "Take replicating call from another sheet.\n",
        "\n",
        "![](https://drive.google.com/uc?export=view&id=1OF4JhVxUrpjZpnP1hWH_GxYQylSEjgG1) Amount of stock\n",
        "\n",
        "![](https://drive.google.com/uc?export=view&id=1waEtPWmJAbcP-m3kOm4x_u5R8XSKwl3U) Amount of replicating option\n",
        "\n",
        "![](https://drive.google.com/uc?export=view&id=1Xs1FB9GAsnewOJhJNU4F37MCXncKdada)"
      ]
    },
    {
      "cell_type": "code",
      "metadata": {
        "id": "1ehYPVvXMCS6",
        "colab_type": "code",
        "colab": {}
      },
      "source": [
        "def delta_vega_hedge(call,spot,rf,strike,maturity,frequency,rep_call,rep_spot,rep_rf,rep_maturity):\n",
        "  n=0 # Days passed\n",
        "  i=0 # Used for rehedging\n",
        "  \n",
        "  # Difference between change in the value of the option\n",
        "  # and the change in the value of replicating portfolio\n",
        "  A    =[] # Store hedging error\n",
        "  OP   =[] # Store hedged option\n",
        "  stock=[] # Store alpha amounts of underlying\n",
        "  rep  =[] # Store eta amounts of replicating stock\n",
        "  alpha=[] # Store alphas\n",
        "  eta  =[] # Store etas\n",
        "  \n",
        "  ### Initial positions ###\n",
        "  \n",
        "  # Hedged option\n",
        "  OP.append(call.iloc[n])\n",
        "  \n",
        "  # Implied volatilites for hedged option and replicating option\n",
        "  vol_BS =imp_vol(call.iloc[n], spot.iloc[n], strike, maturity/365, rf.iloc[n])\n",
        "  vol_rep=imp_vol(rep_call.iloc[n],rep_spot.iloc[n],strike,rep_maturity/365,rep_rf.iloc[n])\n",
        "  \n",
        "  # Deltas for positions\n",
        "  d    =-delta(spot.iloc[n], strike, maturity/365, rf.iloc[n], vol_BS)\n",
        "  d_rep=delta(rep_spot.iloc[n],strike,rep_maturity/365,rep_rf.iloc[n],vol_rep)\n",
        "  \n",
        "  # Vegas for positions\n",
        "  v    =vega(spot.iloc[n], strike, maturity/365, rf.iloc[n], vol_BS)\n",
        "  v_rep=vega(rep_spot.iloc[n],strike,rep_maturity/365,rep_rf.iloc[n],vol_rep)\n",
        "  \n",
        "  # Alpha amount of underlying stock\n",
        "  alpha.append(d+(v/v_rep)*d_rep)\n",
        "  stock.append(alpha[i]*spot.iloc[n])\n",
        "  \n",
        "  # Eta amount of replicating option\n",
        "  eta.append(-v/v_rep) \n",
        "  rep.append(eta[i]*rep_call.iloc[n])\n",
        "  \n",
        "  # MAIN LOOP\n",
        "  while n+1<maturity:\n",
        "    n+=1 # Day passes\n",
        "    \n",
        "    ### Calculate new values of positions ###\n",
        "    \n",
        "    # Use i as index for alpha and eta\n",
        "    OP.append(call.iloc[n])\n",
        "    stock.append(alpha[i]*spot.iloc[n])\n",
        "    rep.append(eta[i]*rep_call.iloc[n])\n",
        "   \n",
        "    A.append((OP[n]-OP[n-1])-(stock[n]-stock[n-1])-(rep[n]-rep[n-1]))\n",
        "    \n",
        "    ### REHEDGE POSITIONS ###\n",
        "    if n>2 and n%frequency==0:\n",
        "      i+=1\n",
        "      # Update volatilities for hedged option and replicating option\n",
        "      vol_BS =imp_vol(call.iloc[n], spot.iloc[n], strike, maturity/365, rf.iloc[n])\n",
        "      vol_rep=imp_vol(rep_call.iloc[n],rep_spot.iloc[n],strike,rep_maturity/365,rep_rf.iloc[n])\n",
        "      \n",
        "      # Update deltas \n",
        "      d    =-delta(spot.iloc[n], strike, maturity/365, rf.iloc[n], vol_BS)\n",
        "      d_rep=delta(rep_spot.iloc[n],strike,rep_maturity/365,rep_rf.iloc[n],vol_rep)\n",
        "      \n",
        "      # Update vegas\n",
        "      v    =vega(spot.iloc[n], strike, maturity/365, rf.iloc[n], vol_BS)\n",
        "      v_rep=vega(rep_spot.iloc[n],strike,rep_maturity/365,rep_rf.iloc[n],vol_rep)\n",
        "      \n",
        "      # Update hedging amounts accordingly\n",
        "      alpha.append(d+(v/v_rep)*d_rep)\n",
        "      eta.append(-v/v_rep)\n",
        "      \n",
        "      # Rehedge positions at the end of the day?\n",
        "      \n",
        "  return MSE(A)"
      ],
      "execution_count": 0,
      "outputs": []
    },
    {
      "cell_type": "code",
      "metadata": {
        "id": "Z3ru1zRxcngc",
        "colab_type": "code",
        "outputId": "778aecfc-e58b-4af9-d44e-bcda76e16861",
        "colab": {
          "base_uri": "https://localhost:8080/",
          "height": 139
        }
      },
      "source": [
        "# Hedging option from SHEET 1 and Replicating option from SHEET 2\n",
        "\n",
        "# SHEET 1\n",
        "spot1=data_1['Spot price']\n",
        "spot1=spot1.drop(spot1.index[0:42]).dropna()\n",
        "\n",
        "rf1=data_1['Risk-free rate']\n",
        "rf1=rf1.drop(rf1.index[0:42]).dropna()\n",
        "\n",
        "atm1=data_1.iloc[:,37] # ATM call Maturity = 45days, Strike = 520, Spot = 516.54\n",
        "atm1=atm1.drop(atm1.index[0:42]).dropna()\n",
        "\n",
        "itm1=data_1.iloc[:,31] # ITM  Strike = 490\n",
        "itm1=itm1.drop(itm1.index[0:42]).dropna()\n",
        "\n",
        "otm1=data_1.iloc[:,43] # OTM Strike = 550\n",
        "otm1=otm1.drop(otm1.index[0:42]).dropna()\n",
        "\n",
        "maturity1=43.0\n",
        "strike1=520.0\n",
        "\n",
        "# SHEET 2\n",
        "\n",
        "# Replicating option\n",
        "rep_atm=data_2.iloc[:,37]\n",
        "rep_atm=rep_atm.drop(rep_atm.index[0:25]).dropna()\n",
        "\n",
        "rep_itm=data_2.iloc[:,31]\n",
        "rep_itm=rep_itm.drop(rep_itm.index[0:25]).dropna()\n",
        "strike_itm=490.0\n",
        "\n",
        "rep_otm=data_2.iloc[:,43]\n",
        "rep_otm=rep_otm.drop(rep_otm.index[0:25]).dropna()\n",
        "strike_otm=550.0\n",
        "\n",
        "maturity2=63.0\n",
        "\n",
        "# Replicating spot price\n",
        "rep_spot=data_2['Spot price']\n",
        "rep_spot=rep_spot.drop(rep_spot.index[0:25]).dropna()\n",
        "\n",
        "# Replicating option interest-rate\n",
        "rep_rf=data_2['Risk-free rate']\n",
        "rep_rf=rep_rf.drop(rep_rf.index[0:25]).dropna()\n",
        "\n",
        "print(\"Sheet 1 hedged option ATM, sheet 2 replicating option, Hedging error, everyother day: \",delta_vega_hedge(atm1,spot1,rf1,strike1,maturity1,2,rep_atm,rep_spot,rep_rf,maturity2))\n",
        "print(\"Sheet 1 hedged option ATM, sheet 2 replicating option, Hedging error, every 7 days:   \",delta_vega_hedge(atm1,spot1,rf1,strike1,maturity1,7,rep_atm,rep_spot,rep_rf,maturity2))\n",
        "\n",
        "print(\"Sheet 1 hedged option ITM, sheet 2 replicating option, Hedging error, everyother day: \",delta_vega_hedge(itm1,spot1,rf1,strike_itm,maturity1,2,rep_itm,rep_spot,rep_rf,maturity2))\n",
        "print(\"Sheet 1 hedged option ITM, sheet 2 replicating option, Hedging error, every 7 days:   \",delta_vega_hedge(itm1,spot1,rf1,strike_itm,maturity1,7,rep_itm,rep_spot,rep_rf,maturity2))\n",
        "\n",
        "print(\"Sheet 1 hedged option OTM, sheet 2 replicating option, Hedging error, everyother day: \",delta_vega_hedge(otm1,spot1,rf1,strike_otm,maturity1,2,rep_otm,rep_spot,rep_rf,maturity2))\n",
        "print(\"Sheet 1 hedged option OTM, sheet 2 replicating option, Hedging error, every 7 days:   \",delta_vega_hedge(otm1,spot1,rf1,strike_otm,maturity1,7,rep_otm,rep_spot,rep_rf,maturity2))"
      ],
      "execution_count": 0,
      "outputs": [
        {
          "output_type": "stream",
          "text": [
            "Sheet 1 hedged option ATM, sheet 2 replicating option, Hedging error, everyother day:  ([-4.574985363899323, -0.24587820417262307, 2.8107933742583366, -2.767677652759783, -2.583477676821232, 2.079378154929426, -1.559378153951922, -0.2726503856098752, 3.0615230646719027, -2.661484844355389, -4.176372775778214, 1.0877635154189278, -0.7876649478408844, -2.0126814739807157, 3.397959001459827, -0.1217367797743254, -0.8045549238233374, -2.2778294350644837, -5.6232973035971225, 0.48228320639967315, 1.8178400973965498, 0.5015638783430205, 3.3867893040698176, 0.2724818066260548, -0.1914618096996712, 1.473460710142203, -0.7370288056462098, -1.2782573234080807, -2.134382007435063, 2.484267638852918, 1.8756601616000017, -0.23580403763124913, 6.38280838126448, 1.2331684115931356, -0.4030794551152299, -0.20926476912342995, 0.028285878978172363, 0.6105963955801261, -4.305043041929701, 2.579724196636268, 1.1612123841318205, -9.27207643359813], 7.814168849881856)\n",
            "Sheet 1 hedged option ATM, sheet 2 replicating option, Hedging error, every 7 days:    ([-4.574985363899323, -0.24587820417262307, 2.8107933742583366, -2.767677652759783, 0.6524148703186867, 2.0344836037935465, -4.305527332927854, 0.6522770942331775, 3.435667313369928, -2.624436800178424, -3.2885178288376142, 1.0940716074279564, -0.08265273527967132, -2.0729021932977973, 0.0780358795199172, -0.1217367797743254, 0.7358978173228525, -2.195070881751122, -1.6801562911889603, 0.3916954459051496, -2.376977793016021, 0.8585510546138266, 2.0032666443187184, 0.2735070273158664, 0.005131343310770475, 1.4776356316522028, -0.3398871848594158, -1.207667633871142, -3.0583177854493746, 2.484267638852918, -1.7469715091403577, -0.24716569631726593, 4.630602674287642, 1.2551336397675819, 0.16522643300872542, 5.016948501546023, 1.9115760282037115, 0.5825730934643616, -5.73418716327189, 2.5866436760229847, 3.3402801890733276, -9.201723443561958], 7.712443649931844)\n",
            "Sheet 1 hedged option ITM, sheet 2 replicating option, Hedging error, everyother day:  ([-5.75205502478407, -0.787673948013758, 4.843908816699507, -4.668878351448523, -1.090737326026023, 3.0411161207878727, -4.410842788690825, -3.168711354798173, 8.25365831111807, 0.6792345536385298, -3.896602526584786, 2.7036775689945074, -5.646189595531954, 0.7697828863076985, 3.096306018508251, -4.051823533166747, 0.01671649688206145, -3.137101450742641, -5.321589817298037, 1.5736351506869823, -0.6137113271741761, 1.5322868192333985, 6.4567055316655555, 1.5875598158105966, 0.02507110282563474, 2.115336753623666, -0.3243560536067136, -0.5555585941713694, -2.3344859512721072, 4.635508429153774, 0.47668766854580724, 0.040214219789774575, 9.330432831263273, 3.8642998897909173, -0.7436161178151508, 0.24039011493671936, 2.3583413759386183, 1.1892153825881593, -6.759437489287269, 3.6214748355301296, 3.964751994786159, -10.29774376816382], 16.14829171181454)\n",
            "Sheet 1 hedged option ITM, sheet 2 replicating option, Hedging error, every 7 days:    ([-5.75205502478407, -0.787673948013758, 4.843908816699507, -4.668878351448523, 2.1593749946262726, 2.978211031338617, -7.04988835589878, -2.411392753117557, 8.611318213022152, 0.6197339669826682, -3.21597832845519, 2.7176763307806624, -4.701192675456511, 0.6470446529751719, -0.024215209074338162, -4.051823533166747, 1.4647079686751496, -3.0173641845923242, -1.5113620027635903, 1.4306125302194772, -4.554899604571588, 1.7107907881505007, 5.140461805768261, 1.589006523877, 0.2327635704317963, 2.129512170314076, 0.0, -0.4575976600602658, -3.1361234289856412, 4.635508429153774, -2.811938733019879, 0.04199588014315481, 7.669388932268575, 3.9907780011133305, -0.509217096714508, 5.223874842883067, 4.056315736444443, 1.1638809516936135, -8.014170222099956, 3.629861904113909, 5.870308555816777, -10.188727144987528], 17.31504389242561)\n",
            "Sheet 1 hedged option OTM, sheet 2 replicating option, Hedging error, everyother day:  ([-1.8571633331968131, -0.4095016705373393, 1.0299424795383787, 1872.249848007778, -1876.0560109082865, 0.6876783802112487, 1624.7590105155346, -1623.8240708019923, 0.6455044677885473, -0.7273121187301239, -1.3604118357242692, -0.5677375595822234, -0.7981128499873658, -0.7391657812200816, 3.0341468780942753, -0.1193355298981601, -1.6854135940693085, -0.445284583812008, -4.301795107727023, -0.08884506980120915, 3.345273928259447, 0.3383546796515031, 1.789290933920419, 0.00794859593379868, 0.036083171237128286, 0.29623566392225775, -0.5053585611341946, -0.2852351824927143, -1.756242697592281, 0.5177743280772487, 3.2269872354477753, -0.038248102897800784, 2.557860187405204, 0.16744270083845716, -0.612731284818087, -0.26922684219107446, 1499.520901599066, -1501.0176084294408, 0.3787519555851332, 0.33867351970251036, -1.7823854776081567, -1.0622736958443442], 400077.36683321197)\n",
            "Sheet 1 hedged option OTM, sheet 2 replicating option, Hedging error, every 7 days:    ([-1.8571633331968131, -0.4095016705373393, 1.0299424795383787, 1872.249848007778, -1872.9806351428465, 0.67222022586876, 1622.0684282920201, -1622.906163602626, 1.0540238116647704, -0.7186011541664699, -0.6267590453581164, -0.5169730920291133, -0.036834034070216015, -0.785657829441835, -0.16953004290946017, -0.1193355298981601, -0.2107737425937527, -0.42142694465483654, -0.5993833846059511, -0.10129199541732042, -0.682166259311975, 0.7169332359979024, 0.5042691927348029, 0.008619566739697854, 0.14918614491321874, 0.30027759085760974, -0.1389913767619002, -0.26896155680093703, -2.511278294800743, 0.5177743280772487, -0.35902074846096044, -0.040240030539975935, 0.8225917028961232, 0.15054284109595664, 0.023490927587905358, 4.855641599691917, 1450.079280125952, -1449.6978625933075, -1.1277886378414488, 0.3442705728455806, 0.4366044050683181, -1.0701007652094752], 392445.33291824436)\n"
          ],
          "name": "stdout"
        }
      ]
    },
    {
      "cell_type": "code",
      "metadata": {
        "id": "f8NMg2rAeVX5",
        "colab_type": "code",
        "outputId": "54e3c5bd-88b8-4c56-ced5-f485e136e1b2",
        "colab": {
          "base_uri": "https://localhost:8080/",
          "height": 231
        }
      },
      "source": [
        "# Hedging option from SHEET 2 and Replicating option from SHEET 3\n",
        "\n",
        "# SHEET 2\n",
        "spot2=data_2['Spot price']\n",
        "spot2=spot2.drop(spot2.index[0:42]).dropna()\n",
        "\n",
        "rf2=data_2['Risk-free rate']\n",
        "rf2=rf2.drop(rf1.index[0:42]).dropna()\n",
        "\n",
        "atm2=data_2.iloc[:,37] # ATM call Maturity = 45days, Strike = 520, Spot = 516.54\n",
        "atm2=atm2.drop(atm2.index[0:42]).dropna()\n",
        "\n",
        "itm1=data_1.iloc[:,31] # ITM  Strike = 490\n",
        "itm1=itm1.drop(itm1.index[0:42]).dropna()\n",
        "\n",
        "otm1=data_1.iloc[:,43] # OTM Strike = 550\n",
        "otm1=otm1.drop(otm1.index[0:42]).dropna()\n",
        "\n",
        "maturity1=43.0\n",
        "strike1=520.0\n",
        "\n",
        "# SHEET 3\n",
        "\n",
        "# Replicating option\n",
        "rep_atm=data_2.iloc[:,37]\n",
        "rep_atm=rep_atm.drop(rep_atm.index[0:25]).dropna()\n",
        "\n",
        "rep_itm=data_2.iloc[:,31]\n",
        "rep_itm=rep_itm.drop(rep_itm.index[0:25]).dropna()\n",
        "strike_itm=490.0\n",
        "\n",
        "rep_otm=data_2.iloc[:,43]\n",
        "rep_otm=rep_otm.drop(rep_otm.index[0:25]).dropna()\n",
        "strike_otm=550.0\n",
        "\n",
        "maturity2=63.0\n",
        "\n",
        "# Replicating spot price\n",
        "rep_spot=data_2['Spot price']\n",
        "rep_spot=rep_spot.drop(rep_spot.index[0:25]).dropna()\n",
        "\n",
        "# Replicating option interest-rate\n",
        "rep_rf=data_2['Risk-free rate']\n",
        "rep_rf=rep_rf.drop(rep_rf.index[0:25]).dropna()\n",
        "\n",
        "print(\"Sheet 2 hedged option ATM, sheet 3 replicating option, Hedging error, everyother day: \",delta_vega_hedge(atm1,spot1,rf1,strike1,maturity1,2,rep_atm,rep_spot,rep_rf,maturity2))\n",
        "print(\"Sheet 2 hedged option ATM, sheet 3 replicating option, Hedging error, every 7 days:   \",delta_vega_hedge(atm1,spot1,rf1,strike1,maturity1,7,rep_atm,rep_spot,rep_rf,maturity2))\n",
        "\n",
        "print(\"Sheet 2 hedged option ITM, sheet 3 replicating option, Hedging error, everyother day: \",delta_vega_hedge(itm1,spot1,rf1,strike_itm,maturity1,2,rep_itm,rep_spot,rep_rf,maturity2))\n",
        "print(\"Sheet 2 hedged option ITM, sheet 3 replicating option, Hedging error, every 7 days:   \",delta_vega_hedge(itm1,spot1,rf1,strike_itm,maturity1,7,rep_itm,rep_spot,rep_rf,maturity2))\n",
        "\n",
        "print(\"Sheet 2 hedged option OTM, sheet 3 replicating option, Hedging error, everyother day: \",delta_vega_hedge(otm1,spot1,rf1,strike_otm,maturity1,2,rep_otm,rep_spot,rep_rf,maturity2))\n",
        "print(\"Sheet 2 hedged option OTM, sheet 3 replicating option, Hedging error, every 7 days:   \",delta_vega_hedgea(otm1,spot1,rf1,strike_otm,maturity1,7,rep_otm,rep_spot,rep_rf,maturity2))"
      ],
      "execution_count": 0,
      "outputs": [
        {
          "output_type": "error",
          "ename": "NameError",
          "evalue": "ignored",
          "traceback": [
            "\u001b[0;31m---------------------------------------------------------------------------\u001b[0m",
            "\u001b[0;31mNameError\u001b[0m                                 Traceback (most recent call last)",
            "\u001b[0;32m<ipython-input-12-c8d1ff784493>\u001b[0m in \u001b[0;36m<module>\u001b[0;34m()\u001b[0m\n\u001b[1;32m     41\u001b[0m \u001b[0mrep_rf\u001b[0m\u001b[0;34m=\u001b[0m\u001b[0mrep_rf\u001b[0m\u001b[0;34m.\u001b[0m\u001b[0mdrop\u001b[0m\u001b[0;34m(\u001b[0m\u001b[0mrep_rf\u001b[0m\u001b[0;34m.\u001b[0m\u001b[0mindex\u001b[0m\u001b[0;34m[\u001b[0m\u001b[0;36m0\u001b[0m\u001b[0;34m:\u001b[0m\u001b[0;36m25\u001b[0m\u001b[0;34m]\u001b[0m\u001b[0;34m)\u001b[0m\u001b[0;34m.\u001b[0m\u001b[0mdropna\u001b[0m\u001b[0;34m(\u001b[0m\u001b[0;34m)\u001b[0m\u001b[0;34m\u001b[0m\u001b[0;34m\u001b[0m\u001b[0m\n\u001b[1;32m     42\u001b[0m \u001b[0;34m\u001b[0m\u001b[0m\n\u001b[0;32m---> 43\u001b[0;31m \u001b[0mprint\u001b[0m\u001b[0;34m(\u001b[0m\u001b[0;34m\"Sheet 2 hedged option ATM, sheet 3 replicating option, Hedging error, everyother day: \"\u001b[0m\u001b[0;34m,\u001b[0m\u001b[0mdelta_vega\u001b[0m\u001b[0;34m(\u001b[0m\u001b[0matm1\u001b[0m\u001b[0;34m,\u001b[0m\u001b[0mspot1\u001b[0m\u001b[0;34m,\u001b[0m\u001b[0mrf1\u001b[0m\u001b[0;34m,\u001b[0m\u001b[0mstrike1\u001b[0m\u001b[0;34m,\u001b[0m\u001b[0mmaturity1\u001b[0m\u001b[0;34m,\u001b[0m\u001b[0;36m2\u001b[0m\u001b[0;34m,\u001b[0m\u001b[0mrep_atm\u001b[0m\u001b[0;34m,\u001b[0m\u001b[0mrep_spot\u001b[0m\u001b[0;34m,\u001b[0m\u001b[0mrep_rf\u001b[0m\u001b[0;34m,\u001b[0m\u001b[0mmaturity2\u001b[0m\u001b[0;34m)\u001b[0m\u001b[0;34m)\u001b[0m\u001b[0;34m\u001b[0m\u001b[0;34m\u001b[0m\u001b[0m\n\u001b[0m\u001b[1;32m     44\u001b[0m \u001b[0mprint\u001b[0m\u001b[0;34m(\u001b[0m\u001b[0;34m\"Sheet 2 hedged option ATM, sheet 3 replicating option, Hedging error, every 7 days:   \"\u001b[0m\u001b[0;34m,\u001b[0m\u001b[0mdelta_vega\u001b[0m\u001b[0;34m(\u001b[0m\u001b[0matm1\u001b[0m\u001b[0;34m,\u001b[0m\u001b[0mspot1\u001b[0m\u001b[0;34m,\u001b[0m\u001b[0mrf1\u001b[0m\u001b[0;34m,\u001b[0m\u001b[0mstrike1\u001b[0m\u001b[0;34m,\u001b[0m\u001b[0mmaturity1\u001b[0m\u001b[0;34m,\u001b[0m\u001b[0;36m7\u001b[0m\u001b[0;34m,\u001b[0m\u001b[0mrep_atm\u001b[0m\u001b[0;34m,\u001b[0m\u001b[0mrep_spot\u001b[0m\u001b[0;34m,\u001b[0m\u001b[0mrep_rf\u001b[0m\u001b[0;34m,\u001b[0m\u001b[0mmaturity2\u001b[0m\u001b[0;34m)\u001b[0m\u001b[0;34m)\u001b[0m\u001b[0;34m\u001b[0m\u001b[0;34m\u001b[0m\u001b[0m\n\u001b[1;32m     45\u001b[0m \u001b[0;34m\u001b[0m\u001b[0m\n",
            "\u001b[0;31mNameError\u001b[0m: name 'delta_vega' is not defined"
          ]
        }
      ]
    },
    {
      "cell_type": "markdown",
      "metadata": {
        "id": "nAKKdcboyjGw",
        "colab_type": "text"
      },
      "source": [
        "#Delta hedge porfolio of options\n",
        "---\n",
        "Same maturities"
      ]
    },
    {
      "cell_type": "code",
      "metadata": {
        "id": "0dLR44bxyiiW",
        "colab_type": "code",
        "colab": {}
      },
      "source": [
        "def delta_hedge_portfolio(call,spot,rf,strike,maturity,frequency,call1,spot1,rf1): # Same maturity for portfolio both options\n",
        "  # Days passed\n",
        "  n=0 \n",
        "  i=0\n",
        "  \n",
        "  A  =[]\n",
        "  \n",
        "  # First option\n",
        "  OP =[]\n",
        "  RE =[]\n",
        "  d  =[]\n",
        "  \n",
        "  # Second option\n",
        "  OP1=[]\n",
        "  RE1=[]\n",
        "  d1 =[]\n",
        "  \n",
        "  ### INITIAL POSITIONS ###\n",
        "  \n",
        "  # Initial position for FIRST option and replicating delta amount of underlying\n",
        "  OP.append(call.iloc[n])\n",
        "  vol=imp_vol(call.iloc[n], spot.iloc[n], strike, (maturity-n)/365, rf.iloc[n])\n",
        "  d.append(delta(spot.iloc[n], strike, (maturity-n)/365, rf.iloc[n], vol))\n",
        "  RE.append(d[i]*spot.iloc[n])\n",
        "  \n",
        "  # Initial position for SECOND option and replicating delta amount of underlying\n",
        "  OP1.append(call1.iloc[n])\n",
        "  vol1=imp_vol(call1.iloc[n], spot1.iloc[n], strike, (maturity-n)/365, rf1.iloc[n])\n",
        "  d1.append(delta(spot1.iloc[n], strike, (maturity-n)/365, rf1.iloc[n], vol1))\n",
        "  RE1.append(d[i]*spot1.iloc[n])\n",
        "\n",
        "  # MAIN LOOP\n",
        "  while n+1<maturity:\n",
        "    # Day passes\n",
        "    n+=1\n",
        "    \n",
        "    OP.append(call.iloc[n])\n",
        "    RE.append(d[i]*spot.iloc[n])\n",
        "    \n",
        "    OP1.append(call1.iloc[n])\n",
        "    RE1.append(d1[i]*spot1.iloc[n])\n",
        "    \n",
        "    A.append((OP[n]-OP[n-1])+(OP1[n]-OP1[n-1])-(RE[n]-RE[n-1])-(RE1[n]-RE1[n-1]))\n",
        "\n",
        "    ### REHEDGE POSITION ###\n",
        "    if n>2 and n%frequency==0:\n",
        "      i+=1\n",
        "      # First option\n",
        "      vol=imp_vol(call.iloc[n], spot.iloc[n], strike, (maturity-n)/365, rf.iloc[n])\n",
        "      d.append(delta(spot.iloc[n], strike, (maturity-n)/365, rf.iloc[n], vol))\n",
        "      \n",
        "      # Second option\n",
        "      vol1=imp_vol(call1.iloc[n], spot1.iloc[n], strike, maturity/365, rf1.iloc[n])\n",
        "      d1.append(delta(spot1.iloc[n], strike, (maturity-n)/365, rf1.iloc[n],vol1))\n",
        "      \n",
        "  # RETURN: Hedging error\n",
        "  return MSE(A)"
      ],
      "execution_count": 0,
      "outputs": []
    },
    {
      "cell_type": "code",
      "metadata": {
        "id": "r92xuQ0D-4YD",
        "colab_type": "code",
        "outputId": "745b065f-12bf-44f5-b3f6-c81daf5b307d",
        "colab": {
          "base_uri": "https://localhost:8080/",
          "height": 51
        }
      },
      "source": [
        "# SHEET 1\n",
        "spot1=data_1['Spot price']\n",
        "spot1=spot1.drop(spot1.index[0:42]).dropna()\n",
        "\n",
        "rf1=data_1['Risk-free rate']\n",
        "rf1=rf1.drop(rf1.index[0:42]).dropna()\n",
        "\n",
        "atm1=data_1.iloc[:,37] # ATM call Maturity = 45days, Strike = 520, Spot = 516.54\n",
        "atm1=atm1.drop(atm1.index[0:42]).dropna()\n",
        "\n",
        "itm1=data_1.iloc[:,31] # ITM  Strike = 490\n",
        "itm1=itm1.drop(itm1.index[0:42]).dropna()\n",
        "\n",
        "otm1=data_1.iloc[:,43] # OTM Strike = 550\n",
        "otm1=otm1.drop(otm1.index[0:42]).dropna()\n",
        "\n",
        "maturity1=43.0\n",
        "strike1=520.0\n",
        "\n",
        "\n",
        "# PRINT HEDGING ERRORS\n",
        "print(\"Sheet 1 & 2, Hedging error for portfolio, everyother day: \",\n",
        "      delta_hedge_portfolio(atm1,spot1,rf1,strike1,maturity1,2,atm2,spot2,rf2)) # everyother day \n",
        "print(\"Sheet 1 & 2, Hedging error for porfolio, every 7 days:    \",\n",
        "      delta_hedge_portfolio(atm1,spot1,rf1,strike1,maturity1,7,atm2,spot2,rf2)) # once a week "
      ],
      "execution_count": 0,
      "outputs": [
        {
          "output_type": "stream",
          "text": [
            "Sheet 1 & 2, Hedging error for portfolio, everyother day:  70.44442091038377\n",
            "Sheet 1 & 2, Hedging error for porfolio, every 7 days:     91.2782505442906\n"
          ],
          "name": "stdout"
        }
      ]
    },
    {
      "cell_type": "markdown",
      "metadata": {
        "id": "qfGeOghWZg34",
        "colab_type": "text"
      },
      "source": [
        "#Delta-Vega hedge portfolio of options"
      ]
    },
    {
      "cell_type": "code",
      "metadata": {
        "id": "cq3KPYlJZhjG",
        "colab_type": "code",
        "colab": {}
      },
      "source": [
        "def delta_vega_portfolio(call,spot,rf,strike,maturity,frequency,rep_call,rep_spot,rep_rf,rep_maturity,\n",
        "                         call1,spot1,rf1,strike1,maturity1,rep_call1,rep_spot1,rep_rf1,rep_maturity1):\n",
        "  n=0 # Days passed\n",
        "  i=0 # Used for rehedging\n",
        "    \n",
        "  # Store errors for calculating MSE\n",
        "\n",
        "  A=delta_vega(call,spot,rf,strike,maturity,frequency,rep_call,rep_spot,rep_rf,rep_maturity)\n",
        "  \n",
        "  B=delta_vega(call1,spot1,rf1,strike1,maturity1,rep_call1,rep_spot1,rep_rf1,rep_maturity1)\n",
        "  \n",
        "  return MSE(A)"
      ],
      "execution_count": 0,
      "outputs": []
    }
  ]
}